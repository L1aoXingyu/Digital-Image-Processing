{
 "cells": [
  {
   "cell_type": "code",
   "execution_count": 1,
   "metadata": {},
   "outputs": [],
   "source": [
    "import mxnet as mx\n",
    "from mxnet import nd\n",
    "import warnings\n",
    "warnings.filterwarnings('ignore')"
   ]
  },
  {
   "cell_type": "markdown",
   "metadata": {},
   "source": [
    "### 1D Fast Global Smoother\n",
    "对于1D的情况，可以定义一个WLS能量函数如下\n",
    "$$\n",
    "J(u) = \\sum_{x} ((u_x^h - f_x^h)^2 + \\lambda_t \\sum_{i \\in N_h(x)} w_{x, i}(g^h)(u_x^h - u_i^h)^2)\n",
    "$$\n",
    "需要极小化这个能量函数，相当于$\\Delta J(u) = 0$，可以等价于求解下面的线性系统:\n",
    "$$\n",
    "(I_h + \\lambda_t A_h) u_h = f_h\n",
    "$$\n",
    "**使用下面的迭代方法**\n",
    "\n",
    "首先计算向前方向\n",
    "$$\n",
    "\\tilde{c_x} = c_x / (b_x - \\tilde{c_{x-1}} a_x) \\\\\n",
    "\\tilde{f^h_x} = (f_x^h - \\tilde{f_{x-1}^h} a_x) / (b_x - \\tilde{c_{x-1}} a_x) \\\\\n",
    "(x = 1, \\cdots, W-1)\n",
    "$$\n",
    "\n",
    "然后计算向后方向\n",
    "$$\n",
    "u_x^h = \\tilde{f^h_x} - \\tilde{c_x} u_{x+1}^h \\quad(x = W - 2, \\cdots, 0) \\\\\n",
    "u_{W-1}^h = \\tilde{f_{W-1}^h}\n",
    "$$"
   ]
  },
  {
   "cell_type": "code",
   "execution_count": 2,
   "metadata": {},
   "outputs": [],
   "source": [
    "def cw_1d(p, q, g, sigma):\n",
    "    '''\n",
    "    计算1d上曲线g上不同位置p和q的相似性，使用sigma作为一个范围度量\n",
    "    g: ndarray，W\n",
    "    p: int\n",
    "    q: int\n",
    "    sigma: float\n",
    "    '''\n",
    "    norm = nd.norm(g[p] - g[q])\n",
    "    return nd.exp(-norm/sigma)"
   ]
  },
  {
   "cell_type": "code",
   "execution_count": 3,
   "metadata": {},
   "outputs": [],
   "source": [
    "def compute_lamb(t, T, lamb_base):\n",
    "    return 1.5 * 4**(T-t) / (4 ** T - 1) * lamb_base"
   ]
  },
  {
   "cell_type": "code",
   "execution_count": 10,
   "metadata": {},
   "outputs": [],
   "source": [
    "def compute_1d_fast_global_smoother(lamb, f, g):\n",
    "    '''\n",
    "    求解1d fast global smoother，给出lambda, f和g，进行前向和反向的递归求解\n",
    "    '''\n",
    "    w = f.shape[0]\n",
    "    _c = nd.zeros(shape=w)\n",
    "    _c[0] = -lamb * cw_1d(0, 1, g) / (1 + lamb * cw_1d(0, 1, g))\n",
    "    _f = nd.zeros(shape=w)\n",
    "    _f[0] = f[0] / (1 + lamb * cw_1d(0, 1, g))\n",
    "    # 递归前向计算\n",
    "    for i in range(1, w):\n",
    "        _c[i] = -lamb * cw_1d(i, i + 1, g) / (\n",
    "            1 + lamb * (cw_1d(i, i - 1) + cw_1d(i, i + 1)) +\n",
    "            lamb * _c[i - 1] * cw_1d(i, i - 1, g))\n",
    "        _f[i] = (f[i] + _f[i - 1] * lamb * cw_1d(i, i - 1, g)) / (\n",
    "            1 + lamb * (cw_1d(i, i - 1, g) + cw_1d(i, i + 1, g)) +\n",
    "            lamb * _c[i - 1] * cw_1d(i, i - 1))\n",
    "    u = nd.zeros(shape=w)\n",
    "    u[w - 1] = _f[w - 1]\n",
    "    # 递归向后计算\n",
    "    for i in range(w - 2, -1, -1):\n",
    "        u[i] = _f[i] - _c[i] * u[i + 1]\n",
    "    return u"
   ]
  },
  {
   "cell_type": "markdown",
   "metadata": {},
   "source": [
    "对于一张2D的图片，分别在水平和竖直上应用1D的solver就能够求解，但是会出现streaking artifact的问题，为了解决这个问题，在每一次的迭代中，可以修改$\\lambda$的值，因为这个值在每次迭代中对稀疏光滑具有显著的减少。"
   ]
  },
  {
   "cell_type": "code",
   "execution_count": 19,
   "metadata": {},
   "outputs": [],
   "source": [
    "def Separable_global_smoother(f, g, T, lamb_base):\n",
    "    '''\n",
    "    全局图片光滑算法，输入是f和g，f是2D image，g是2D guide image\n",
    "    '''\n",
    "    H, W = f.shape\n",
    "    u = nd.zeros(shape=(H, W))\n",
    "    for t in range(1, T+1):\n",
    "        # 计算每一步迭代的lambda_t\n",
    "        lamb_t = compute_lamb(t, T, lamb_base)\n",
    "        # horizontal\n",
    "        for y in range(0, H):\n",
    "            f_h = f[:, y]\n",
    "            u[:, y] = compute_1d_fast_global_smoother(lamb_t, f_h, f_h)\n",
    "        # vertical\n",
    "        for x in range(0, W):\n",
    "            f_v = f[x, :]\n",
    "            u[x, :] = compute_1d_fast_global_smoother(lamb_t, f_v, f_v)\n",
    "    return u"
   ]
  },
  {
   "cell_type": "code",
   "execution_count": null,
   "metadata": {},
   "outputs": [],
   "source": []
  }
 ],
 "metadata": {
  "anaconda-cloud": {},
  "kernelspec": {
   "display_name": "Python [conda env:mx]",
   "language": "python",
   "name": "conda-env-mx-py"
  },
  "language_info": {
   "codemirror_mode": {
    "name": "ipython",
    "version": 3
   },
   "file_extension": ".py",
   "mimetype": "text/x-python",
   "name": "python",
   "nbconvert_exporter": "python",
   "pygments_lexer": "ipython3",
   "version": "3.6.1"
  }
 },
 "nbformat": 4,
 "nbformat_minor": 1
}
