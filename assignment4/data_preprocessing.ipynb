{
 "cells": [
  {
   "cell_type": "code",
   "execution_count": 2,
   "metadata": {
    "collapsed": true
   },
   "outputs": [],
   "source": [
    "import os\n",
    "import cv2\n",
    "import dlib"
   ]
  },
  {
   "cell_type": "code",
   "execution_count": 16,
   "metadata": {
    "collapsed": true
   },
   "outputs": [],
   "source": [
    "detector = dlib.get_frontal_face_detector()"
   ]
  },
  {
   "cell_type": "code",
   "execution_count": 80,
   "metadata": {
    "collapsed": true
   },
   "outputs": [],
   "source": [
    "dir_list = os.listdir('./data/thumbnails_features_deduped_publish/')"
   ]
  },
  {
   "cell_type": "code",
   "execution_count": 93,
   "metadata": {
    "scrolled": true
   },
   "outputs": [],
   "source": [
    "for folder in dir_list:\n",
    "    if not os.path.exists(os.path.join('./data/train/', folder)):\n",
    "        os.mkdir(os.path.join('./data/train/', folder))\n",
    "    img_list = os.listdir(os.path.join('./data/thumbnails_features_deduped_publish/', folder))\n",
    "    for im in img_list:\n",
    "        if im.split('.')[1] == 'jpg':\n",
    "            img = cv2.imread(os.path.join('./data/thumbnails_features_deduped_publish/', folder, im))\n",
    "            dets = detector(img, 1)\n",
    "            for i, d in enumerate(dets):\n",
    "                x1 = d.top() if d.top() > 0 else 0\n",
    "                y1 = d.bottom() if d.bottom() > 0 else 0\n",
    "                x2 = d.left() if d.left() > 0 else 0\n",
    "                y2 = d.right() if d.right() > 0 else 0\n",
    "                face = img[x1:y1, x2:y2, :]\n",
    "                face = cv2.resize(face, (96, 96)) # resize image to certain size\n",
    "            if i == 0 and face is not None:\n",
    "                save_path = os.path.join('./data/train', folder, im)\n",
    "                cv2.imwrite(save_path, face)"
   ]
  }
 ],
 "metadata": {
  "kernelspec": {
   "display_name": "Python 3",
   "language": "python",
   "name": "python3"
  },
  "language_info": {
   "codemirror_mode": {
    "name": "ipython",
    "version": 3
   },
   "file_extension": ".py",
   "mimetype": "text/x-python",
   "name": "python",
   "nbconvert_exporter": "python",
   "pygments_lexer": "ipython3",
   "version": "3.6.3"
  }
 },
 "nbformat": 4,
 "nbformat_minor": 2
}
